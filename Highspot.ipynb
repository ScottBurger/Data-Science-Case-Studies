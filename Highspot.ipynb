{
 "cells": [
  {
   "cell_type": "markdown",
   "metadata": {},
   "source": [
    "# Highspot Take Home Project - Scott Burger"
   ]
  },
  {
   "cell_type": "markdown",
   "metadata": {},
   "source": [
    "# Executive Summary\n",
    "\n",
    "In this document, we present high-level findings from three tables of data: \n",
    "* Engagements between sales representatives and customers (**rep_data**).\n",
    "   * Many reps do not have any data which needs to be removed prior to modelling.\n",
    "   * The channel_spend1 field has the best number of engagements per dollar spend.\n",
    "   \n",
    "   \n",
    "* Customer-specific data like yearly revenue and customer size (**customer_data**).\n",
    "    * Customer types are split between small, medium, and large Industry groups.\n",
    "    * Industry1 outranks Industry3 then Industry2 for how much the target deal size grows as a function of the company's yearly revenue.\n",
    "\n",
    "\n",
    "* Engagement data between sales representatives and customers (**engagement_data**).\n",
    "    * There are more engagements without prior contact than with prior contact.\n",
    "    * The average actual deal size is higher for a prior contact engagement by almost 100,000.\n",
    "    * High touch engagements have a lower average actual deal size.\n",
    "\n",
    "We then present two modelling scenarios:\n",
    "* First, building a data set by joining **rep_data** to the **engagement_data** table.\n",
    "\n",
    "\n",
    "* Linearly modelling actual deal size as a function of channel spend.\n",
    "    * Here we determined a best-fit model as:\n",
    "      * $\\text{Actual Deal Size} = 29\\cdot C_1 + 5.99\\cdot C_2 +  16.89\\cdot C_3 -16.51\\cdot C_4 + 29.07\\cdot C_5 + 1426837.78$\n",
    "\n",
    "\n",
    "* Classification model to determine if the target minus actual deal size is positive.\n",
    "    * False-positive rates with the classification model very high. The precision is 59% and recall is 68%.\n",
    "\n",
    "\n",
    "* We conclude that the linear model result is better to use than the logistic classifier based on its false-positive rate."
   ]
  },
  {
   "cell_type": "markdown",
   "metadata": {},
   "source": [
    "# Table of Contents\n",
    "\n",
    "* Exploratory Data Analysis\n",
    "\n",
    "* Key Metric Choosing for Modelling\n",
    "\n",
    "* Model Building and Evaluation\n"
   ]
  },
  {
   "cell_type": "markdown",
   "metadata": {},
   "source": [
    "## Exploratory Data Analysis - rep_data"
   ]
  },
  {
   "cell_type": "markdown",
   "metadata": {},
   "source": [
    "First let's do some data exploration on the tables that we already have, starting with the rep_data table. We have a number of interesting questions we can ask, but before we jump in to those, it's best to assess data quality: how many NAs are there for a given column of the data?"
   ]
  },
  {
   "cell_type": "code",
   "execution_count": 57,
   "metadata": {},
   "outputs": [],
   "source": [
    "#load the datasets\n",
    "import pandas as pd\n",
    "import seaborn as sns\n",
    "import matplotlib.pyplot as plt\n",
    "%matplotlib inline\n",
    "\n",
    "customer_data = pd.read_csv(\"customer_data.csv\")\n",
    "engagement_data = pd.read_csv(\"engagement_data.csv\")\n",
    "rep_data = pd.read_csv(\"rep_data.csv\")"
   ]
  },
  {
   "cell_type": "code",
   "execution_count": 7,
   "metadata": {
    "scrolled": true
   },
   "outputs": [
    {
     "data": {
      "text/html": [
       "<div>\n",
       "<style scoped>\n",
       "    .dataframe tbody tr th:only-of-type {\n",
       "        vertical-align: middle;\n",
       "    }\n",
       "\n",
       "    .dataframe tbody tr th {\n",
       "        vertical-align: top;\n",
       "    }\n",
       "\n",
       "    .dataframe thead th {\n",
       "        text-align: right;\n",
       "    }\n",
       "</style>\n",
       "<table border=\"1\" class=\"dataframe\">\n",
       "  <thead>\n",
       "    <tr style=\"text-align: right;\">\n",
       "      <th></th>\n",
       "      <th>customer_id</th>\n",
       "      <th>rep_id</th>\n",
       "      <th>channel_spend1</th>\n",
       "      <th>channel_spend2</th>\n",
       "      <th>channel_spend3</th>\n",
       "      <th>channel_spend4</th>\n",
       "      <th>channel_spend5</th>\n",
       "      <th>num_engagements</th>\n",
       "    </tr>\n",
       "  </thead>\n",
       "  <tbody>\n",
       "    <tr>\n",
       "      <th>6430</th>\n",
       "      <td>Customer45</td>\n",
       "      <td>Rep139</td>\n",
       "      <td>4556.61</td>\n",
       "      <td>20.64</td>\n",
       "      <td>10.00</td>\n",
       "      <td>1601.01</td>\n",
       "      <td>3288.25</td>\n",
       "      <td>12</td>\n",
       "    </tr>\n",
       "    <tr>\n",
       "      <th>6431</th>\n",
       "      <td>Customer45</td>\n",
       "      <td>Rep140</td>\n",
       "      <td>5046.74</td>\n",
       "      <td>NaN</td>\n",
       "      <td>18.82</td>\n",
       "      <td>2253.43</td>\n",
       "      <td>2340.01</td>\n",
       "      <td>12</td>\n",
       "    </tr>\n",
       "    <tr>\n",
       "      <th>6432</th>\n",
       "      <td>Customer45</td>\n",
       "      <td>Rep141</td>\n",
       "      <td>1956.28</td>\n",
       "      <td>NaN</td>\n",
       "      <td>10.00</td>\n",
       "      <td>599.32</td>\n",
       "      <td>3990.54</td>\n",
       "      <td>12</td>\n",
       "    </tr>\n",
       "    <tr>\n",
       "      <th>6433</th>\n",
       "      <td>Customer45</td>\n",
       "      <td>Rep142</td>\n",
       "      <td>2004.02</td>\n",
       "      <td>NaN</td>\n",
       "      <td>10.00</td>\n",
       "      <td>437.73</td>\n",
       "      <td>1537.49</td>\n",
       "      <td>12</td>\n",
       "    </tr>\n",
       "    <tr>\n",
       "      <th>6434</th>\n",
       "      <td>Customer45</td>\n",
       "      <td>Rep143</td>\n",
       "      <td>4018.91</td>\n",
       "      <td>58.08</td>\n",
       "      <td>100.00</td>\n",
       "      <td>211.94</td>\n",
       "      <td>858.33</td>\n",
       "      <td>12</td>\n",
       "    </tr>\n",
       "  </tbody>\n",
       "</table>\n",
       "</div>"
      ],
      "text/plain": [
       "     customer_id  rep_id  channel_spend1  channel_spend2  channel_spend3  \\\n",
       "6430  Customer45  Rep139         4556.61           20.64           10.00   \n",
       "6431  Customer45  Rep140         5046.74             NaN           18.82   \n",
       "6432  Customer45  Rep141         1956.28             NaN           10.00   \n",
       "6433  Customer45  Rep142         2004.02             NaN           10.00   \n",
       "6434  Customer45  Rep143         4018.91           58.08          100.00   \n",
       "\n",
       "      channel_spend4  channel_spend5  num_engagements  \n",
       "6430         1601.01         3288.25               12  \n",
       "6431         2253.43         2340.01               12  \n",
       "6432          599.32         3990.54               12  \n",
       "6433          437.73         1537.49               12  \n",
       "6434          211.94          858.33               12  "
      ]
     },
     "execution_count": 7,
     "metadata": {},
     "output_type": "execute_result"
    }
   ],
   "source": [
    "rep_data.tail()"
   ]
  },
  {
   "cell_type": "markdown",
   "metadata": {},
   "source": [
    "As we can see from a preview of the data, there are some NAs present, so we should be dilligent to quantify them:"
   ]
  },
  {
   "cell_type": "code",
   "execution_count": 8,
   "metadata": {
    "scrolled": true
   },
   "outputs": [
    {
     "data": {
      "text/plain": [
       "customer_id        1.000000\n",
       "rep_id             1.000000\n",
       "channel_spend1     0.354312\n",
       "channel_spend2     0.254390\n",
       "channel_spend3     0.317949\n",
       "channel_spend4     0.305361\n",
       "channel_spend5     0.356643\n",
       "num_engagements    1.000000\n",
       "dtype: float64"
      ]
     },
     "execution_count": 8,
     "metadata": {},
     "output_type": "execute_result"
    }
   ],
   "source": [
    "rep_data.count() / len(rep_data)"
   ]
  },
  {
   "cell_type": "markdown",
   "metadata": {},
   "source": [
    "This amout of data loss implies the question: is the data that lossy for all reps and all customers or just some? So let's look at the total count of NA values per customer and total count of NA values per rep:"
   ]
  },
  {
   "cell_type": "code",
   "execution_count": 9,
   "metadata": {},
   "outputs": [
    {
     "data": {
      "text/plain": [
       "<matplotlib.axes._subplots.AxesSubplot at 0x11e3dd433c8>"
      ]
     },
     "execution_count": 9,
     "metadata": {},
     "output_type": "execute_result"
    },
    {
     "data": {
      "image/png": "[encoded data removed]",
      "text/plain": [
       "<Figure size 432x288 with 1 Axes>"
      ]
     },
     "metadata": {
      "needs_background": "light"
     },
     "output_type": "display_data"
    }
   ],
   "source": [
    "null_rep = rep_data.groupby('rep_id').agg(lambda x: x.isnull().sum())\n",
    "null_rep['total_na'] = null_rep.sum(axis=1)\n",
    "null_rep.sort_values(['total_na'], ascending=False)\n",
    "sns.distplot(null_rep['total_na'], kde=False, bins=30)"
   ]
  },
  {
   "cell_type": "markdown",
   "metadata": {},
   "source": [
    "According to the above histogram, we have more than 200 reps that have basically no channel spend data. The rest may have a few channels missing, but not all of them and not to a large fraction of their total. This begs the question of how the customer data looks for the same channel spend metrics:"
   ]
  },
  {
   "cell_type": "code",
   "execution_count": 10,
   "metadata": {},
   "outputs": [
    {
     "data": {
      "text/plain": [
       "<matplotlib.axes._subplots.AxesSubplot at 0x11e3dc06c50>"
      ]
     },
     "execution_count": 10,
     "metadata": {},
     "output_type": "execute_result"
    },
    {
     "data": {
      "image/png": "[encoded data removed]",
      "text/plain": [
       "<Figure size 432x288 with 1 Axes>"
      ]
     },
     "metadata": {
      "needs_background": "light"
     },
     "output_type": "display_data"
    }
   ],
   "source": [
    "null_cust = rep_data.groupby('customer_id').agg(lambda x: x.isnull().sum())\n",
    "null_cust['total_na'] = null_cust.sum(axis=1)\n",
    "null_cust.sort_values(['total_na'], ascending=False)\n",
    "sns.distplot(null_cust['total_na'], kde=False, bins=30)"
   ]
  },
  {
   "cell_type": "markdown",
   "metadata": {},
   "source": [
    "The customer data here is a lot less extreme in its count of NAs. There are a large number of customer ids that have a couple NA values and, at worst, some that have as many as 12. This leads us to the conclusion that we could drop the rep ids that have null values for all of their channel spend data and then see what the value counts are. If the total NAs are substantially lower, then we can impute the few remaining NA values to make our dataset more robust."
   ]
  },
  {
   "cell_type": "code",
   "execution_count": 11,
   "metadata": {},
   "outputs": [
    {
     "data": {
      "text/plain": [
       "customer_id        1.000000\n",
       "rep_id             1.000000\n",
       "channel_spend1     0.993464\n",
       "channel_spend2     0.713290\n",
       "channel_spend3     0.891503\n",
       "channel_spend4     0.856209\n",
       "channel_spend5     1.000000\n",
       "num_engagements    1.000000\n",
       "dtype: float64"
      ]
     },
     "execution_count": 11,
     "metadata": {},
     "output_type": "execute_result"
    }
   ],
   "source": [
    "null_rep_ids = null_rep[null_rep['total_na'] >= 200].reset_index()['rep_id']  #list of rep_ids that have all null channel spend\n",
    "rep_data_filtered = rep_data[~rep_data['rep_id'].isin(null_rep_ids)] #removing rep_ids from original list from out filter list\n",
    "rep_data_filtered.count() / len(rep_data_filtered)"
   ]
  },
  {
   "cell_type": "markdown",
   "metadata": {},
   "source": [
    "These value counts look much better in terms of percentages being NAs. Before we were looking at all the channel spends being 75% null and now closer to 10% on average. We can go ahead and impute the missing data for the rest by putting in the average values for the given channel spend column.\n"
   ]
  },
  {
   "cell_type": "code",
   "execution_count": 12,
   "metadata": {},
   "outputs": [
    {
     "data": {
      "text/plain": [
       "customer_id        1.0\n",
       "rep_id             1.0\n",
       "channel_spend1     1.0\n",
       "channel_spend2     1.0\n",
       "channel_spend3     1.0\n",
       "channel_spend4     1.0\n",
       "channel_spend5     1.0\n",
       "num_engagements    1.0\n",
       "dtype: float64"
      ]
     },
     "execution_count": 12,
     "metadata": {},
     "output_type": "execute_result"
    }
   ],
   "source": [
    "rep_data_imputed = rep_data_filtered\n",
    "rep_data_imputed = rep_data_imputed.fillna(rep_data_imputed.mean())\n",
    "rep_data_imputed.count() / len(rep_data_imputed)"
   ]
  },
  {
   "cell_type": "markdown",
   "metadata": {},
   "source": [
    "Great! Now we have all of our data without any missing records. Let's add one more column, which is a sum of all the other channel spend data:"
   ]
  },
  {
   "cell_type": "code",
   "execution_count": 13,
   "metadata": {},
   "outputs": [],
   "source": [
    "rep_data_imputed['total_spend'] = \\\n",
    "rep_data_imputed['channel_spend1'] + \\\n",
    "rep_data_imputed['channel_spend2'] + \\\n",
    "rep_data_imputed['channel_spend3'] + \\\n",
    "rep_data_imputed['channel_spend4'] + \\\n",
    "rep_data_imputed['channel_spend5'] "
   ]
  },
  {
   "cell_type": "markdown",
   "metadata": {},
   "source": [
    "Now let's see how the channel spend per number of engagements looks:"
   ]
  },
  {
   "cell_type": "code",
   "execution_count": 14,
   "metadata": {},
   "outputs": [
    {
     "data": {
      "image/png": "[encoded data removed]",
      "text/plain": [
       "<Figure size 1080x864 with 6 Axes>"
      ]
     },
     "metadata": {
      "needs_background": "light"
     },
     "output_type": "display_data"
    }
   ],
   "source": [
    "fig, axes = plt.subplots(3,2)\n",
    "\n",
    "fig.set_size_inches(15,12)\n",
    "\n",
    "ax = sns.boxplot(y='num_engagements', x='channel_spend1', showfliers=False, orient='h', order=[13,12,11,10,9], data=rep_data_imputed, ax=axes[0,0])\n",
    "ax = sns.boxplot(y='num_engagements', x='channel_spend2', showfliers=False, orient='h', order=[13,12,11,10,9], data=rep_data_imputed, ax=axes[0,1])\n",
    "ax = sns.boxplot(y='num_engagements', x='channel_spend3', showfliers=False, orient='h', order=[13,12,11,10,9], data=rep_data_imputed, ax=axes[1,0])\n",
    "ax = sns.boxplot(y='num_engagements', x='channel_spend4', showfliers=False, orient='h', order=[13,12,11,10,9], data=rep_data_imputed, ax=axes[1,1])\n",
    "ax = sns.boxplot(y='num_engagements', x='channel_spend5', showfliers=False, orient='h', order=[13,12,11,10,9], data=rep_data_imputed, ax=axes[2,0])\n",
    "ax = sns.boxplot(y='num_engagements', x='total_spend', showfliers=False, orient='h', order=[13,12,11,10,9], data=rep_data_imputed, ax=axes[2,1])\n"
   ]
  },
  {
   "cell_type": "markdown",
   "metadata": {},
   "source": [
    "In this view, we see number of engagements as a function of channel spend with the total spend as the final box in the bottom right. The channel with the highest average number of engagements per total spend would be channel 1."
   ]
  },
  {
   "cell_type": "markdown",
   "metadata": {},
   "source": [
    "## Exploratory Data Analysis - customer_data"
   ]
  },
  {
   "cell_type": "markdown",
   "metadata": {},
   "source": [
    "In this section, can get some quick insights from the data by looking at the average values cut by each industry \n",
    "\n",
    "* Industry3 has a much lower customer size than the other two and has a lower overall target deal size. The yearly revenue for these, likely smaller, customers is also lower. However, these customers have the highest year-over-year growth rate.\n",
    "* Industry2 is larger in all metrics except for year-over-year growth.\n",
    "* Industry1 is the largest across all fields, but lowest in year-over-year-growth. \n",
    "* By total counts, there are the most of Industry1 at 22, Industry2 at 17, and fewest of Idustry3 at 6\n",
    "* If we were to classify these groups, it's likely that Industry1 is enterprise-level, Industry2 is small-medium business, and Industry3 are the smallest, likely startup level businesses."
   ]
  },
  {
   "cell_type": "code",
   "execution_count": 53,
   "metadata": {},
   "outputs": [
    {
     "data": {
      "text/html": [
       "<div>\n",
       "<style scoped>\n",
       "    .dataframe tbody tr th:only-of-type {\n",
       "        vertical-align: middle;\n",
       "    }\n",
       "\n",
       "    .dataframe tbody tr th {\n",
       "        vertical-align: top;\n",
       "    }\n",
       "\n",
       "    .dataframe thead th {\n",
       "        text-align: right;\n",
       "    }\n",
       "</style>\n",
       "<table border=\"1\" class=\"dataframe\">\n",
       "  <thead>\n",
       "    <tr style=\"text-align: right;\">\n",
       "      <th></th>\n",
       "      <th>industry_id</th>\n",
       "      <th>Industry1</th>\n",
       "      <th>Industry2</th>\n",
       "      <th>Industry3</th>\n",
       "    </tr>\n",
       "  </thead>\n",
       "  <tbody>\n",
       "    <tr>\n",
       "      <th rowspan=\"8\" valign=\"top\">customer_size</th>\n",
       "      <th>count</th>\n",
       "      <td>2.200000e+01</td>\n",
       "      <td>1.700000e+01</td>\n",
       "      <td>6.000000e+00</td>\n",
       "    </tr>\n",
       "    <tr>\n",
       "      <th>mean</th>\n",
       "      <td>1.772477e+05</td>\n",
       "      <td>1.011907e+05</td>\n",
       "      <td>4.054167e+04</td>\n",
       "    </tr>\n",
       "    <tr>\n",
       "      <th>std</th>\n",
       "      <td>4.939262e+04</td>\n",
       "      <td>3.237114e+04</td>\n",
       "      <td>1.304145e+03</td>\n",
       "    </tr>\n",
       "    <tr>\n",
       "      <th>min</th>\n",
       "      <td>3.969000e+04</td>\n",
       "      <td>3.487500e+04</td>\n",
       "      <td>3.969000e+04</td>\n",
       "    </tr>\n",
       "    <tr>\n",
       "      <th>25%</th>\n",
       "      <td>1.558408e+05</td>\n",
       "      <td>9.318800e+04</td>\n",
       "      <td>3.974500e+04</td>\n",
       "    </tr>\n",
       "    <tr>\n",
       "      <th>50%</th>\n",
       "      <td>2.024060e+05</td>\n",
       "      <td>1.145330e+05</td>\n",
       "      <td>3.991000e+04</td>\n",
       "    </tr>\n",
       "    <tr>\n",
       "      <th>75%</th>\n",
       "      <td>2.038190e+05</td>\n",
       "      <td>1.237370e+05</td>\n",
       "      <td>4.077400e+04</td>\n",
       "    </tr>\n",
       "    <tr>\n",
       "      <th>max</th>\n",
       "      <td>2.196220e+05</td>\n",
       "      <td>1.401670e+05</td>\n",
       "      <td>4.298800e+04</td>\n",
       "    </tr>\n",
       "    <tr>\n",
       "      <th rowspan=\"8\" valign=\"top\">target_deal_size</th>\n",
       "      <th>count</th>\n",
       "      <td>2.200000e+01</td>\n",
       "      <td>1.700000e+01</td>\n",
       "      <td>6.000000e+00</td>\n",
       "    </tr>\n",
       "    <tr>\n",
       "      <th>mean</th>\n",
       "      <td>1.762827e+06</td>\n",
       "      <td>1.661100e+06</td>\n",
       "      <td>1.418717e+06</td>\n",
       "    </tr>\n",
       "    <tr>\n",
       "      <th>std</th>\n",
       "      <td>7.069391e+05</td>\n",
       "      <td>5.977368e+05</td>\n",
       "      <td>4.463200e+05</td>\n",
       "    </tr>\n",
       "    <tr>\n",
       "      <th>min</th>\n",
       "      <td>7.706000e+05</td>\n",
       "      <td>8.175000e+05</td>\n",
       "      <td>9.088000e+05</td>\n",
       "    </tr>\n",
       "    <tr>\n",
       "      <th>25%</th>\n",
       "      <td>1.266850e+06</td>\n",
       "      <td>1.164500e+06</td>\n",
       "      <td>1.121200e+06</td>\n",
       "    </tr>\n",
       "    <tr>\n",
       "      <th>50%</th>\n",
       "      <td>1.529200e+06</td>\n",
       "      <td>1.491600e+06</td>\n",
       "      <td>1.361950e+06</td>\n",
       "    </tr>\n",
       "    <tr>\n",
       "      <th>75%</th>\n",
       "      <td>2.333325e+06</td>\n",
       "      <td>2.028400e+06</td>\n",
       "      <td>1.606900e+06</td>\n",
       "    </tr>\n",
       "    <tr>\n",
       "      <th>max</th>\n",
       "      <td>2.964600e+06</td>\n",
       "      <td>2.820000e+06</td>\n",
       "      <td>2.150100e+06</td>\n",
       "    </tr>\n",
       "    <tr>\n",
       "      <th rowspan=\"8\" valign=\"top\">yearly_revenue</th>\n",
       "      <th>count</th>\n",
       "      <td>2.200000e+01</td>\n",
       "      <td>1.700000e+01</td>\n",
       "      <td>6.000000e+00</td>\n",
       "    </tr>\n",
       "    <tr>\n",
       "      <th>mean</th>\n",
       "      <td>4.231132e+07</td>\n",
       "      <td>4.123618e+07</td>\n",
       "      <td>3.269017e+07</td>\n",
       "    </tr>\n",
       "    <tr>\n",
       "      <th>std</th>\n",
       "      <td>1.463138e+07</td>\n",
       "      <td>1.645374e+07</td>\n",
       "      <td>1.110369e+07</td>\n",
       "    </tr>\n",
       "    <tr>\n",
       "      <th>min</th>\n",
       "      <td>2.003600e+07</td>\n",
       "      <td>1.880200e+07</td>\n",
       "      <td>2.272000e+07</td>\n",
       "    </tr>\n",
       "    <tr>\n",
       "      <th>25%</th>\n",
       "      <td>2.742150e+07</td>\n",
       "      <td>2.608500e+07</td>\n",
       "      <td>2.466675e+07</td>\n",
       "    </tr>\n",
       "    <tr>\n",
       "      <th>50%</th>\n",
       "      <td>4.275650e+07</td>\n",
       "      <td>3.821400e+07</td>\n",
       "      <td>2.923050e+07</td>\n",
       "    </tr>\n",
       "    <tr>\n",
       "      <th>75%</th>\n",
       "      <td>5.544000e+07</td>\n",
       "      <td>5.117000e+07</td>\n",
       "      <td>3.746700e+07</td>\n",
       "    </tr>\n",
       "    <tr>\n",
       "      <th>max</th>\n",
       "      <td>6.522100e+07</td>\n",
       "      <td>7.614000e+07</td>\n",
       "      <td>5.160200e+07</td>\n",
       "    </tr>\n",
       "    <tr>\n",
       "      <th rowspan=\"8\" valign=\"top\">growth_yoy</th>\n",
       "      <th>count</th>\n",
       "      <td>2.200000e+01</td>\n",
       "      <td>1.700000e+01</td>\n",
       "      <td>6.000000e+00</td>\n",
       "    </tr>\n",
       "    <tr>\n",
       "      <th>mean</th>\n",
       "      <td>2.981909e+01</td>\n",
       "      <td>3.133000e+01</td>\n",
       "      <td>3.461167e+01</td>\n",
       "    </tr>\n",
       "    <tr>\n",
       "      <th>std</th>\n",
       "      <td>7.251657e+00</td>\n",
       "      <td>9.889068e+00</td>\n",
       "      <td>9.951280e+00</td>\n",
       "    </tr>\n",
       "    <tr>\n",
       "      <th>min</th>\n",
       "      <td>2.128000e+01</td>\n",
       "      <td>2.097000e+01</td>\n",
       "      <td>2.540000e+01</td>\n",
       "    </tr>\n",
       "    <tr>\n",
       "      <th>25%</th>\n",
       "      <td>2.571500e+01</td>\n",
       "      <td>2.422000e+01</td>\n",
       "      <td>2.634250e+01</td>\n",
       "    </tr>\n",
       "    <tr>\n",
       "      <th>50%</th>\n",
       "      <td>2.696000e+01</td>\n",
       "      <td>2.734000e+01</td>\n",
       "      <td>3.173500e+01</td>\n",
       "    </tr>\n",
       "    <tr>\n",
       "      <th>75%</th>\n",
       "      <td>3.410250e+01</td>\n",
       "      <td>4.224000e+01</td>\n",
       "      <td>4.354750e+01</td>\n",
       "    </tr>\n",
       "    <tr>\n",
       "      <th>max</th>\n",
       "      <td>4.909000e+01</td>\n",
       "      <td>4.888000e+01</td>\n",
       "      <td>4.677000e+01</td>\n",
       "    </tr>\n",
       "  </tbody>\n",
       "</table>\n",
       "</div>"
      ],
      "text/plain": [
       "industry_id                Industry1     Industry2     Industry3\n",
       "customer_size    count  2.200000e+01  1.700000e+01  6.000000e+00\n",
       "                 mean   1.772477e+05  1.011907e+05  4.054167e+04\n",
       "                 std    4.939262e+04  3.237114e+04  1.304145e+03\n",
       "                 min    3.969000e+04  3.487500e+04  3.969000e+04\n",
       "                 25%    1.558408e+05  9.318800e+04  3.974500e+04\n",
       "                 50%    2.024060e+05  1.145330e+05  3.991000e+04\n",
       "                 75%    2.038190e+05  1.237370e+05  4.077400e+04\n",
       "                 max    2.196220e+05  1.401670e+05  4.298800e+04\n",
       "target_deal_size count  2.200000e+01  1.700000e+01  6.000000e+00\n",
       "                 mean   1.762827e+06  1.661100e+06  1.418717e+06\n",
       "                 std    7.069391e+05  5.977368e+05  4.463200e+05\n",
       "                 min    7.706000e+05  8.175000e+05  9.088000e+05\n",
       "                 25%    1.266850e+06  1.164500e+06  1.121200e+06\n",
       "                 50%    1.529200e+06  1.491600e+06  1.361950e+06\n",
       "                 75%    2.333325e+06  2.028400e+06  1.606900e+06\n",
       "                 max    2.964600e+06  2.820000e+06  2.150100e+06\n",
       "yearly_revenue   count  2.200000e+01  1.700000e+01  6.000000e+00\n",
       "                 mean   4.231132e+07  4.123618e+07  3.269017e+07\n",
       "                 std    1.463138e+07  1.645374e+07  1.110369e+07\n",
       "                 min    2.003600e+07  1.880200e+07  2.272000e+07\n",
       "                 25%    2.742150e+07  2.608500e+07  2.466675e+07\n",
       "                 50%    4.275650e+07  3.821400e+07  2.923050e+07\n",
       "                 75%    5.544000e+07  5.117000e+07  3.746700e+07\n",
       "                 max    6.522100e+07  7.614000e+07  5.160200e+07\n",
       "growth_yoy       count  2.200000e+01  1.700000e+01  6.000000e+00\n",
       "                 mean   2.981909e+01  3.133000e+01  3.461167e+01\n",
       "                 std    7.251657e+00  9.889068e+00  9.951280e+00\n",
       "                 min    2.128000e+01  2.097000e+01  2.540000e+01\n",
       "                 25%    2.571500e+01  2.422000e+01  2.634250e+01\n",
       "                 50%    2.696000e+01  2.734000e+01  3.173500e+01\n",
       "                 75%    3.410250e+01  4.224000e+01  4.354750e+01\n",
       "                 max    4.909000e+01  4.888000e+01  4.677000e+01"
      ]
     },
     "execution_count": 53,
     "metadata": {},
     "output_type": "execute_result"
    }
   ],
   "source": [
    "customer_data.groupby('industry_id').describe().transpose()"
   ]
  },
  {
   "cell_type": "markdown",
   "metadata": {},
   "source": [
    "We can see a lot of the same conclusions borne out in a colorized pair plot of the same data:"
   ]
  },
  {
   "cell_type": "code",
   "execution_count": 49,
   "metadata": {},
   "outputs": [
    {
     "data": {
      "text/plain": [
       "<seaborn.axisgrid.PairGrid at 0x11e3d843828>"
      ]
     },
     "execution_count": 49,
     "metadata": {},
     "output_type": "execute_result"
    },
    {
     "data": {
      "image/png": "[encoded data removed]",
      "text/plain": [
       "<Figure size 803.5x720 with 20 Axes>"
      ]
     },
     "metadata": {
      "needs_background": "light"
     },
     "output_type": "display_data"
    }
   ],
   "source": [
    "sns.pairplot(customer_data, hue='industry_id')"
   ]
  },
  {
   "cell_type": "markdown",
   "metadata": {},
   "source": [
    "The only real interesting trend here appears to be target deal size as a function of yearly revenue. We can do some light regression modelling on this data to see what interesting results pop out as well:"
   ]
  },
  {
   "cell_type": "code",
   "execution_count": 11,
   "metadata": {},
   "outputs": [
    {
     "data": {
      "text/plain": [
       "<seaborn.axisgrid.FacetGrid at 0x1ad32e1bc18>"
      ]
     },
     "execution_count": 11,
     "metadata": {},
     "output_type": "execute_result"
    },
    {
     "data": {
      "image/png": "[encoded data removed]",
      "text/plain": [
       "<Figure size 443.5x360 with 1 Axes>"
      ]
     },
     "metadata": {
      "needs_background": "light"
     },
     "output_type": "display_data"
    }
   ],
   "source": [
    "sns.lmplot(x='yearly_revenue', y='target_deal_size', hue='industry_id', data=customer_data)"
   ]
  },
  {
   "cell_type": "markdown",
   "metadata": {},
   "source": [
    "From the above figure, we can see that Industry1 outranks Industry3 then Industry2 for how much the target deal size grows as a function of the company's yearly revenue. The confidence interval bands for Industry1 and Industry2 are about the same, but the bands for Industry3 are much wider as a result of larger spread in the data for that category."
   ]
  },
  {
   "cell_type": "markdown",
   "metadata": {},
   "source": [
    "## Exploratory Data Analysis - engagement_data"
   ]
  },
  {
   "cell_type": "markdown",
   "metadata": {},
   "source": [
    "Finally some brief exploration into the **engagement_data** table. Some insights from the pivot table below:\n",
    "* There are more engagements without prior contact than with prior contact.\n",
    "* The average actual deal size is higher for a prior contact engagement by almost 100,000.\n",
    "* High touch engagements have a lower average actual deal size."
   ]
  },
  {
   "cell_type": "code",
   "execution_count": 65,
   "metadata": {},
   "outputs": [
    {
     "data": {
      "text/html": [
       "<div>\n",
       "<style scoped>\n",
       "    .dataframe tbody tr th:only-of-type {\n",
       "        vertical-align: middle;\n",
       "    }\n",
       "\n",
       "    .dataframe tbody tr th {\n",
       "        vertical-align: top;\n",
       "    }\n",
       "\n",
       "    .dataframe thead tr th {\n",
       "        text-align: left;\n",
       "    }\n",
       "</style>\n",
       "<table border=\"1\" class=\"dataframe\">\n",
       "  <thead>\n",
       "    <tr>\n",
       "      <th></th>\n",
       "      <th>prior_contact</th>\n",
       "      <th colspan=\"2\" halign=\"left\">False</th>\n",
       "      <th colspan=\"2\" halign=\"left\">True</th>\n",
       "    </tr>\n",
       "    <tr>\n",
       "      <th></th>\n",
       "      <th>initial_channel_type</th>\n",
       "      <th>HighTouch</th>\n",
       "      <th>LowTouch</th>\n",
       "      <th>HighTouch</th>\n",
       "      <th>LowTouch</th>\n",
       "    </tr>\n",
       "  </thead>\n",
       "  <tbody>\n",
       "    <tr>\n",
       "      <th rowspan=\"8\" valign=\"top\">actual_deal_size</th>\n",
       "      <th>count</th>\n",
       "      <td>2.151240e+05</td>\n",
       "      <td>1.767850e+05</td>\n",
       "      <td>1.624900e+04</td>\n",
       "      <td>1.341200e+04</td>\n",
       "    </tr>\n",
       "    <tr>\n",
       "      <th>mean</th>\n",
       "      <td>1.719295e+06</td>\n",
       "      <td>1.725713e+06</td>\n",
       "      <td>1.817656e+06</td>\n",
       "      <td>1.855801e+06</td>\n",
       "    </tr>\n",
       "    <tr>\n",
       "      <th>std</th>\n",
       "      <td>2.143864e+06</td>\n",
       "      <td>2.160656e+06</td>\n",
       "      <td>2.567655e+06</td>\n",
       "      <td>2.747349e+06</td>\n",
       "    </tr>\n",
       "    <tr>\n",
       "      <th>min</th>\n",
       "      <td>5.000000e+05</td>\n",
       "      <td>5.000000e+05</td>\n",
       "      <td>5.000000e+05</td>\n",
       "      <td>5.000000e+05</td>\n",
       "    </tr>\n",
       "    <tr>\n",
       "      <th>25%</th>\n",
       "      <td>5.000000e+05</td>\n",
       "      <td>5.000000e+05</td>\n",
       "      <td>5.000000e+05</td>\n",
       "      <td>5.000000e+05</td>\n",
       "    </tr>\n",
       "    <tr>\n",
       "      <th>50%</th>\n",
       "      <td>7.573000e+05</td>\n",
       "      <td>7.614000e+05</td>\n",
       "      <td>7.798000e+05</td>\n",
       "      <td>8.110500e+05</td>\n",
       "    </tr>\n",
       "    <tr>\n",
       "      <th>75%</th>\n",
       "      <td>2.012125e+06</td>\n",
       "      <td>2.014500e+06</td>\n",
       "      <td>2.125000e+06</td>\n",
       "      <td>2.112575e+06</td>\n",
       "    </tr>\n",
       "    <tr>\n",
       "      <th>max</th>\n",
       "      <td>4.042450e+07</td>\n",
       "      <td>4.069890e+07</td>\n",
       "      <td>6.930990e+07</td>\n",
       "      <td>6.497700e+07</td>\n",
       "    </tr>\n",
       "  </tbody>\n",
       "</table>\n",
       "</div>"
      ],
      "text/plain": [
       "prior_contact                  False                       True               \n",
       "initial_channel_type       HighTouch      LowTouch     HighTouch      LowTouch\n",
       "actual_deal_size count  2.151240e+05  1.767850e+05  1.624900e+04  1.341200e+04\n",
       "                 mean   1.719295e+06  1.725713e+06  1.817656e+06  1.855801e+06\n",
       "                 std    2.143864e+06  2.160656e+06  2.567655e+06  2.747349e+06\n",
       "                 min    5.000000e+05  5.000000e+05  5.000000e+05  5.000000e+05\n",
       "                 25%    5.000000e+05  5.000000e+05  5.000000e+05  5.000000e+05\n",
       "                 50%    7.573000e+05  7.614000e+05  7.798000e+05  8.110500e+05\n",
       "                 75%    2.012125e+06  2.014500e+06  2.125000e+06  2.112575e+06\n",
       "                 max    4.042450e+07  4.069890e+07  6.930990e+07  6.497700e+07"
      ]
     },
     "execution_count": 65,
     "metadata": {},
     "output_type": "execute_result"
    }
   ],
   "source": [
    "engagement_data.groupby(['prior_contact', 'initial_channel_type']).describe().transpose()"
   ]
  },
  {
   "cell_type": "markdown",
   "metadata": {},
   "source": [
    "## Key Metric Choosing for Modelling\n",
    "\n",
    "When picking a feature variable to model against, for business purposes it's most impactful to choose something that either impacts revenue or revenue-driving metrics (ie daily active users). In this case, we have an **actual deal size** for a given **customer id**. If we wanted to model that deal size, we can do it in two ways: \n",
    "* modelling the deal size by channel spend metrics, which likely drive the interaction behavior to the final deal\n",
    "* modelling the difference between target deal size and actual deal size as a function of channel spend\n",
    "\n",
    "This modelling will effectivelly tell us how much money goes in yields how much comes out across all customer ids."
   ]
  },
  {
   "cell_type": "markdown",
   "metadata": {},
   "source": [
    "## Model Building and Evaluation: Linear Regression\n",
    "\n",
    "linear regression on spend to get equation?\n",
    "\n",
    "logistic to determine if positive or negative final deal size?\n"
   ]
  },
  {
   "cell_type": "code",
   "execution_count": 114,
   "metadata": {},
   "outputs": [
    {
     "data": {
      "text/html": [
       "<div>\n",
       "<style scoped>\n",
       "    .dataframe tbody tr th:only-of-type {\n",
       "        vertical-align: middle;\n",
       "    }\n",
       "\n",
       "    .dataframe tbody tr th {\n",
       "        vertical-align: top;\n",
       "    }\n",
       "\n",
       "    .dataframe thead th {\n",
       "        text-align: right;\n",
       "    }\n",
       "</style>\n",
       "<table border=\"1\" class=\"dataframe\">\n",
       "  <thead>\n",
       "    <tr style=\"text-align: right;\">\n",
       "      <th></th>\n",
       "      <th>customer_id</th>\n",
       "      <th>engagement_type_id</th>\n",
       "      <th>rep_id</th>\n",
       "      <th>actual_deal_size</th>\n",
       "      <th>prior_contact</th>\n",
       "      <th>initial_channel_type</th>\n",
       "      <th>target_deal_size</th>\n",
       "      <th>channel_spend1</th>\n",
       "      <th>channel_spend2</th>\n",
       "      <th>channel_spend3</th>\n",
       "      <th>channel_spend4</th>\n",
       "      <th>channel_spend5</th>\n",
       "      <th>num_engagements</th>\n",
       "      <th>final_deal_size</th>\n",
       "    </tr>\n",
       "  </thead>\n",
       "  <tbody>\n",
       "    <tr>\n",
       "      <th>92</th>\n",
       "      <td>Customer1</td>\n",
       "      <td>Medium1</td>\n",
       "      <td>Rep93</td>\n",
       "      <td>1869000</td>\n",
       "      <td>False</td>\n",
       "      <td>LowTouch</td>\n",
       "      <td>2081200</td>\n",
       "      <td>10382.90</td>\n",
       "      <td>6115.67</td>\n",
       "      <td>215.07</td>\n",
       "      <td>2406.62</td>\n",
       "      <td>6551.42</td>\n",
       "      <td>10.0</td>\n",
       "      <td>212200</td>\n",
       "    </tr>\n",
       "    <tr>\n",
       "      <th>93</th>\n",
       "      <td>Customer1</td>\n",
       "      <td>Medium1</td>\n",
       "      <td>Rep94</td>\n",
       "      <td>1905100</td>\n",
       "      <td>False</td>\n",
       "      <td>LowTouch</td>\n",
       "      <td>2081200</td>\n",
       "      <td>6074.12</td>\n",
       "      <td>254.39</td>\n",
       "      <td>51.98</td>\n",
       "      <td>427.39</td>\n",
       "      <td>5988.57</td>\n",
       "      <td>10.0</td>\n",
       "      <td>176100</td>\n",
       "    </tr>\n",
       "    <tr>\n",
       "      <th>94</th>\n",
       "      <td>Customer1</td>\n",
       "      <td>Medium1</td>\n",
       "      <td>Rep95</td>\n",
       "      <td>2091100</td>\n",
       "      <td>True</td>\n",
       "      <td>HighTouch</td>\n",
       "      <td>2081200</td>\n",
       "      <td>410.31</td>\n",
       "      <td>98.00</td>\n",
       "      <td>55805.51</td>\n",
       "      <td>10.00</td>\n",
       "      <td>554.92</td>\n",
       "      <td>10.0</td>\n",
       "      <td>-9900</td>\n",
       "    </tr>\n",
       "    <tr>\n",
       "      <th>95</th>\n",
       "      <td>Customer1</td>\n",
       "      <td>Medium1</td>\n",
       "      <td>Rep96</td>\n",
       "      <td>2529300</td>\n",
       "      <td>False</td>\n",
       "      <td>HighTouch</td>\n",
       "      <td>2081200</td>\n",
       "      <td>5629.51</td>\n",
       "      <td>68.00</td>\n",
       "      <td>1398.11</td>\n",
       "      <td>2084.64</td>\n",
       "      <td>20475.32</td>\n",
       "      <td>10.0</td>\n",
       "      <td>-448100</td>\n",
       "    </tr>\n",
       "    <tr>\n",
       "      <th>96</th>\n",
       "      <td>Customer1</td>\n",
       "      <td>Medium1</td>\n",
       "      <td>Rep97</td>\n",
       "      <td>3330600</td>\n",
       "      <td>False</td>\n",
       "      <td>HighTouch</td>\n",
       "      <td>2081200</td>\n",
       "      <td>4640.65</td>\n",
       "      <td>19.00</td>\n",
       "      <td>105.02</td>\n",
       "      <td>3639.42</td>\n",
       "      <td>14461.82</td>\n",
       "      <td>9.0</td>\n",
       "      <td>-1249400</td>\n",
       "    </tr>\n",
       "  </tbody>\n",
       "</table>\n",
       "</div>"
      ],
      "text/plain": [
       "   customer_id engagement_type_id rep_id  actual_deal_size  prior_contact  \\\n",
       "92   Customer1            Medium1  Rep93           1869000          False   \n",
       "93   Customer1            Medium1  Rep94           1905100          False   \n",
       "94   Customer1            Medium1  Rep95           2091100           True   \n",
       "95   Customer1            Medium1  Rep96           2529300          False   \n",
       "96   Customer1            Medium1  Rep97           3330600          False   \n",
       "\n",
       "   initial_channel_type  target_deal_size  channel_spend1  channel_spend2  \\\n",
       "92             LowTouch           2081200        10382.90         6115.67   \n",
       "93             LowTouch           2081200         6074.12          254.39   \n",
       "94            HighTouch           2081200          410.31           98.00   \n",
       "95            HighTouch           2081200         5629.51           68.00   \n",
       "96            HighTouch           2081200         4640.65           19.00   \n",
       "\n",
       "    channel_spend3  channel_spend4  channel_spend5  num_engagements  \\\n",
       "92          215.07         2406.62         6551.42             10.0   \n",
       "93           51.98          427.39         5988.57             10.0   \n",
       "94        55805.51           10.00          554.92             10.0   \n",
       "95         1398.11         2084.64        20475.32             10.0   \n",
       "96          105.02         3639.42        14461.82              9.0   \n",
       "\n",
       "    final_deal_size  \n",
       "92           212200  \n",
       "93           176100  \n",
       "94            -9900  \n",
       "95          -448100  \n",
       "96         -1249400  "
      ]
     },
     "execution_count": 114,
     "metadata": {},
     "output_type": "execute_result"
    }
   ],
   "source": [
    "customer_deals_joined = pd.merge(engagement_data, customer_data, on='customer_id', how='left')\n",
    "customer_deals_joined = pd.merge(customer_deals_joined, rep_data_imputed, on=['customer_id', 'rep_id'], how='left')\n",
    "\n",
    "customer_deals_joined = customer_deals_joined[[\n",
    "    'customer_id', \\\n",
    "    'engagement_type_id', \\\n",
    "    'rep_id', \\\n",
    "    'actual_deal_size', \\\n",
    "    'prior_contact', \\\n",
    "    'initial_channel_type', \\\n",
    "    'target_deal_size', \\\n",
    "    'channel_spend1', \\\n",
    "\n",
    "    'channel_spend2', \\\n",
    "    'channel_spend3', \\\n",
    "    'channel_spend4', \\\n",
    "    'channel_spend5', \\\n",
    "    'num_engagements'\n",
    "]]\n",
    "\n",
    "customer_deals_joined = customer_deals_joined.dropna()\n",
    "customer_deals_joined['final_deal_size'] = customer_deals_joined['target_deal_size'] - customer_deals_joined['actual_deal_size']\n",
    "\n",
    "customer_deals_joined.head()\n"
   ]
  },
  {
   "cell_type": "code",
   "execution_count": 115,
   "metadata": {},
   "outputs": [
    {
     "name": "stdout",
     "output_type": "stream",
     "text": [
      "1426837.78134242\n",
      "\n",
      "\n",
      "                Coefficient\n",
      "channel_spend1    29.006799\n",
      "channel_spend2     5.991424\n",
      "channel_spend3    16.897817\n",
      "channel_spend4   -16.513966\n",
      "channel_spend5    29.071727\n"
     ]
    }
   ],
   "source": [
    "from sklearn.model_selection import train_test_split\n",
    "\n",
    "X = customer_deals_joined[['channel_spend1', 'channel_spend2', 'channel_spend3', 'channel_spend4', 'channel_spend5']]\n",
    "y = customer_deals_joined['actual_deal_size']\n",
    "\n",
    "X_train, X_test, y_train, y_test = train_test_split(X, y, test_size=0.3, random_state=123)\n",
    "\n",
    "from sklearn.linear_model import LinearRegression\n",
    "lm = LinearRegression()\n",
    "lm.fit(X_train,y_train)\n",
    "\n",
    "print(lm.intercept_)\n",
    "print('\\n')\n",
    "print(pd.DataFrame(lm.coef_,X.columns,columns=['Coefficient']))"
   ]
  },
  {
   "cell_type": "markdown",
   "metadata": {},
   "source": [
    "From this model, we would have a function like:\n",
    "\n",
    "$\\text{Actual Deal Size} = 29\\cdot C_1 + 5.99\\cdot C_2 +  16.89\\cdot C_3 -16.51\\cdot C_4 + 29.07\\cdot C_5 + 1426837.78$"
   ]
  },
  {
   "cell_type": "markdown",
   "metadata": {},
   "source": [
    "## Logistic Regression Modelling\n",
    "\n",
    "We can also run a logistic model to determine if the final deal size will be more or less than the target deal size:"
   ]
  },
  {
   "cell_type": "code",
   "execution_count": 117,
   "metadata": {},
   "outputs": [
    {
     "data": {
      "text/html": [
       "<div>\n",
       "<style scoped>\n",
       "    .dataframe tbody tr th:only-of-type {\n",
       "        vertical-align: middle;\n",
       "    }\n",
       "\n",
       "    .dataframe tbody tr th {\n",
       "        vertical-align: top;\n",
       "    }\n",
       "\n",
       "    .dataframe thead th {\n",
       "        text-align: right;\n",
       "    }\n",
       "</style>\n",
       "<table border=\"1\" class=\"dataframe\">\n",
       "  <thead>\n",
       "    <tr style=\"text-align: right;\">\n",
       "      <th></th>\n",
       "      <th>customer_id</th>\n",
       "      <th>engagement_type_id</th>\n",
       "      <th>rep_id</th>\n",
       "      <th>actual_deal_size</th>\n",
       "      <th>prior_contact</th>\n",
       "      <th>initial_channel_type</th>\n",
       "      <th>target_deal_size</th>\n",
       "      <th>channel_spend1</th>\n",
       "      <th>channel_spend2</th>\n",
       "      <th>channel_spend3</th>\n",
       "      <th>channel_spend4</th>\n",
       "      <th>channel_spend5</th>\n",
       "      <th>num_engagements</th>\n",
       "      <th>final_deal_size</th>\n",
       "    </tr>\n",
       "  </thead>\n",
       "  <tbody>\n",
       "    <tr>\n",
       "      <th>92</th>\n",
       "      <td>Customer1</td>\n",
       "      <td>Medium1</td>\n",
       "      <td>Rep93</td>\n",
       "      <td>1869000</td>\n",
       "      <td>False</td>\n",
       "      <td>LowTouch</td>\n",
       "      <td>2081200</td>\n",
       "      <td>10382.90</td>\n",
       "      <td>6115.67</td>\n",
       "      <td>215.07</td>\n",
       "      <td>2406.62</td>\n",
       "      <td>6551.42</td>\n",
       "      <td>10.0</td>\n",
       "      <td>212200</td>\n",
       "    </tr>\n",
       "    <tr>\n",
       "      <th>93</th>\n",
       "      <td>Customer1</td>\n",
       "      <td>Medium1</td>\n",
       "      <td>Rep94</td>\n",
       "      <td>1905100</td>\n",
       "      <td>False</td>\n",
       "      <td>LowTouch</td>\n",
       "      <td>2081200</td>\n",
       "      <td>6074.12</td>\n",
       "      <td>254.39</td>\n",
       "      <td>51.98</td>\n",
       "      <td>427.39</td>\n",
       "      <td>5988.57</td>\n",
       "      <td>10.0</td>\n",
       "      <td>176100</td>\n",
       "    </tr>\n",
       "    <tr>\n",
       "      <th>94</th>\n",
       "      <td>Customer1</td>\n",
       "      <td>Medium1</td>\n",
       "      <td>Rep95</td>\n",
       "      <td>2091100</td>\n",
       "      <td>True</td>\n",
       "      <td>HighTouch</td>\n",
       "      <td>2081200</td>\n",
       "      <td>410.31</td>\n",
       "      <td>98.00</td>\n",
       "      <td>55805.51</td>\n",
       "      <td>10.00</td>\n",
       "      <td>554.92</td>\n",
       "      <td>10.0</td>\n",
       "      <td>-9900</td>\n",
       "    </tr>\n",
       "    <tr>\n",
       "      <th>95</th>\n",
       "      <td>Customer1</td>\n",
       "      <td>Medium1</td>\n",
       "      <td>Rep96</td>\n",
       "      <td>2529300</td>\n",
       "      <td>False</td>\n",
       "      <td>HighTouch</td>\n",
       "      <td>2081200</td>\n",
       "      <td>5629.51</td>\n",
       "      <td>68.00</td>\n",
       "      <td>1398.11</td>\n",
       "      <td>2084.64</td>\n",
       "      <td>20475.32</td>\n",
       "      <td>10.0</td>\n",
       "      <td>-448100</td>\n",
       "    </tr>\n",
       "    <tr>\n",
       "      <th>96</th>\n",
       "      <td>Customer1</td>\n",
       "      <td>Medium1</td>\n",
       "      <td>Rep97</td>\n",
       "      <td>3330600</td>\n",
       "      <td>False</td>\n",
       "      <td>HighTouch</td>\n",
       "      <td>2081200</td>\n",
       "      <td>4640.65</td>\n",
       "      <td>19.00</td>\n",
       "      <td>105.02</td>\n",
       "      <td>3639.42</td>\n",
       "      <td>14461.82</td>\n",
       "      <td>9.0</td>\n",
       "      <td>-1249400</td>\n",
       "    </tr>\n",
       "  </tbody>\n",
       "</table>\n",
       "</div>"
      ],
      "text/plain": [
       "   customer_id engagement_type_id rep_id  actual_deal_size  prior_contact  \\\n",
       "92   Customer1            Medium1  Rep93           1869000          False   \n",
       "93   Customer1            Medium1  Rep94           1905100          False   \n",
       "94   Customer1            Medium1  Rep95           2091100           True   \n",
       "95   Customer1            Medium1  Rep96           2529300          False   \n",
       "96   Customer1            Medium1  Rep97           3330600          False   \n",
       "\n",
       "   initial_channel_type  target_deal_size  channel_spend1  channel_spend2  \\\n",
       "92             LowTouch           2081200        10382.90         6115.67   \n",
       "93             LowTouch           2081200         6074.12          254.39   \n",
       "94            HighTouch           2081200          410.31           98.00   \n",
       "95            HighTouch           2081200         5629.51           68.00   \n",
       "96            HighTouch           2081200         4640.65           19.00   \n",
       "\n",
       "    channel_spend3  channel_spend4  channel_spend5  num_engagements  \\\n",
       "92          215.07         2406.62         6551.42             10.0   \n",
       "93           51.98          427.39         5988.57             10.0   \n",
       "94        55805.51           10.00          554.92             10.0   \n",
       "95         1398.11         2084.64        20475.32             10.0   \n",
       "96          105.02         3639.42        14461.82              9.0   \n",
       "\n",
       "    final_deal_size  \n",
       "92           212200  \n",
       "93           176100  \n",
       "94            -9900  \n",
       "95          -448100  \n",
       "96         -1249400  "
      ]
     },
     "execution_count": 117,
     "metadata": {},
     "output_type": "execute_result"
    }
   ],
   "source": [
    "customer_deals_joined.head()"
   ]
  },
  {
   "cell_type": "code",
   "execution_count": 118,
   "metadata": {},
   "outputs": [
    {
     "data": {
      "text/html": [
       "<div>\n",
       "<style scoped>\n",
       "    .dataframe tbody tr th:only-of-type {\n",
       "        vertical-align: middle;\n",
       "    }\n",
       "\n",
       "    .dataframe tbody tr th {\n",
       "        vertical-align: top;\n",
       "    }\n",
       "\n",
       "    .dataframe thead th {\n",
       "        text-align: right;\n",
       "    }\n",
       "</style>\n",
       "<table border=\"1\" class=\"dataframe\">\n",
       "  <thead>\n",
       "    <tr style=\"text-align: right;\">\n",
       "      <th></th>\n",
       "      <th>customer_id</th>\n",
       "      <th>engagement_type_id</th>\n",
       "      <th>rep_id</th>\n",
       "      <th>actual_deal_size</th>\n",
       "      <th>target_deal_size</th>\n",
       "      <th>channel_spend1</th>\n",
       "      <th>channel_spend2</th>\n",
       "      <th>channel_spend3</th>\n",
       "      <th>channel_spend4</th>\n",
       "      <th>channel_spend5</th>\n",
       "      <th>num_engagements</th>\n",
       "      <th>final_deal_size</th>\n",
       "      <th>final_deal_outcome</th>\n",
       "      <th>True</th>\n",
       "      <th>LowTouch</th>\n",
       "    </tr>\n",
       "  </thead>\n",
       "  <tbody>\n",
       "    <tr>\n",
       "      <th>92</th>\n",
       "      <td>Customer1</td>\n",
       "      <td>Medium1</td>\n",
       "      <td>Rep93</td>\n",
       "      <td>1869000</td>\n",
       "      <td>2081200</td>\n",
       "      <td>10382.90</td>\n",
       "      <td>6115.67</td>\n",
       "      <td>215.07</td>\n",
       "      <td>2406.62</td>\n",
       "      <td>6551.42</td>\n",
       "      <td>10.0</td>\n",
       "      <td>212200</td>\n",
       "      <td>1</td>\n",
       "      <td>0</td>\n",
       "      <td>1</td>\n",
       "    </tr>\n",
       "    <tr>\n",
       "      <th>93</th>\n",
       "      <td>Customer1</td>\n",
       "      <td>Medium1</td>\n",
       "      <td>Rep94</td>\n",
       "      <td>1905100</td>\n",
       "      <td>2081200</td>\n",
       "      <td>6074.12</td>\n",
       "      <td>254.39</td>\n",
       "      <td>51.98</td>\n",
       "      <td>427.39</td>\n",
       "      <td>5988.57</td>\n",
       "      <td>10.0</td>\n",
       "      <td>176100</td>\n",
       "      <td>1</td>\n",
       "      <td>0</td>\n",
       "      <td>1</td>\n",
       "    </tr>\n",
       "    <tr>\n",
       "      <th>94</th>\n",
       "      <td>Customer1</td>\n",
       "      <td>Medium1</td>\n",
       "      <td>Rep95</td>\n",
       "      <td>2091100</td>\n",
       "      <td>2081200</td>\n",
       "      <td>410.31</td>\n",
       "      <td>98.00</td>\n",
       "      <td>55805.51</td>\n",
       "      <td>10.00</td>\n",
       "      <td>554.92</td>\n",
       "      <td>10.0</td>\n",
       "      <td>-9900</td>\n",
       "      <td>0</td>\n",
       "      <td>1</td>\n",
       "      <td>0</td>\n",
       "    </tr>\n",
       "    <tr>\n",
       "      <th>95</th>\n",
       "      <td>Customer1</td>\n",
       "      <td>Medium1</td>\n",
       "      <td>Rep96</td>\n",
       "      <td>2529300</td>\n",
       "      <td>2081200</td>\n",
       "      <td>5629.51</td>\n",
       "      <td>68.00</td>\n",
       "      <td>1398.11</td>\n",
       "      <td>2084.64</td>\n",
       "      <td>20475.32</td>\n",
       "      <td>10.0</td>\n",
       "      <td>-448100</td>\n",
       "      <td>0</td>\n",
       "      <td>0</td>\n",
       "      <td>0</td>\n",
       "    </tr>\n",
       "    <tr>\n",
       "      <th>96</th>\n",
       "      <td>Customer1</td>\n",
       "      <td>Medium1</td>\n",
       "      <td>Rep97</td>\n",
       "      <td>3330600</td>\n",
       "      <td>2081200</td>\n",
       "      <td>4640.65</td>\n",
       "      <td>19.00</td>\n",
       "      <td>105.02</td>\n",
       "      <td>3639.42</td>\n",
       "      <td>14461.82</td>\n",
       "      <td>9.0</td>\n",
       "      <td>-1249400</td>\n",
       "      <td>0</td>\n",
       "      <td>0</td>\n",
       "      <td>0</td>\n",
       "    </tr>\n",
       "  </tbody>\n",
       "</table>\n",
       "</div>"
      ],
      "text/plain": [
       "   customer_id engagement_type_id rep_id  actual_deal_size  target_deal_size  \\\n",
       "92   Customer1            Medium1  Rep93           1869000           2081200   \n",
       "93   Customer1            Medium1  Rep94           1905100           2081200   \n",
       "94   Customer1            Medium1  Rep95           2091100           2081200   \n",
       "95   Customer1            Medium1  Rep96           2529300           2081200   \n",
       "96   Customer1            Medium1  Rep97           3330600           2081200   \n",
       "\n",
       "    channel_spend1  channel_spend2  channel_spend3  channel_spend4  \\\n",
       "92        10382.90         6115.67          215.07         2406.62   \n",
       "93         6074.12          254.39           51.98          427.39   \n",
       "94          410.31           98.00        55805.51           10.00   \n",
       "95         5629.51           68.00         1398.11         2084.64   \n",
       "96         4640.65           19.00          105.02         3639.42   \n",
       "\n",
       "    channel_spend5  num_engagements  final_deal_size  final_deal_outcome  \\\n",
       "92         6551.42             10.0           212200                   1   \n",
       "93         5988.57             10.0           176100                   1   \n",
       "94          554.92             10.0            -9900                   0   \n",
       "95        20475.32             10.0          -448100                   0   \n",
       "96        14461.82              9.0         -1249400                   0   \n",
       "\n",
       "    True  LowTouch  \n",
       "92     0         1  \n",
       "93     0         1  \n",
       "94     1         0  \n",
       "95     0         0  \n",
       "96     0         0  "
      ]
     },
     "execution_count": 118,
     "metadata": {},
     "output_type": "execute_result"
    }
   ],
   "source": [
    "\n",
    "def outcome(x):\n",
    "    if x >= 0:\n",
    "        return 1\n",
    "    else:\n",
    "        return 0\n",
    "\n",
    "customer_deals_joined['final_deal_outcome'] = customer_deals_joined['final_deal_size'].apply(outcome)\n",
    "\n",
    "\n",
    "\n",
    "prior_contact_d = pd.get_dummies(customer_deals_joined['prior_contact'], drop_first=True)\n",
    "initial_channel_type_d = pd.get_dummies(customer_deals_joined['initial_channel_type'], drop_first=True)\n",
    "customer_deals_joined.drop(['prior_contact', 'initial_channel_type'], axis=1, inplace=True)\n",
    "customer_deals_joined = pd.concat([customer_deals_joined, prior_contact_d, initial_channel_type_d], axis=1)\n",
    "\n",
    "customer_deals_joined.head()"
   ]
  },
  {
   "cell_type": "code",
   "execution_count": 123,
   "metadata": {},
   "outputs": [
    {
     "name": "stderr",
     "output_type": "stream",
     "text": [
      "C:\\Users\\scott\\Anaconda3\\lib\\site-packages\\sklearn\\linear_model\\logistic.py:433: FutureWarning: Default solver will be changed to 'lbfgs' in 0.22. Specify a solver to silence this warning.\n",
      "  FutureWarning)\n"
     ]
    },
    {
     "name": "stdout",
     "output_type": "stream",
     "text": [
      "Confusion matrix output:\n",
      "[[  237 14180]\n",
      " [  391 30622]]\n",
      "\n",
      "\n",
      "Logistic evaluation metrics:\n",
      "              precision    recall  f1-score   support\n",
      "\n",
      "           0       0.38      0.02      0.03     14417\n",
      "           1       0.68      0.99      0.81     31013\n",
      "\n",
      "   micro avg       0.68      0.68      0.68     45430\n",
      "   macro avg       0.53      0.50      0.42     45430\n",
      "weighted avg       0.59      0.68      0.56     45430\n",
      "\n"
     ]
    }
   ],
   "source": [
    "from sklearn.model_selection import train_test_split\n",
    "\n",
    "X = customer_deals_joined[['channel_spend1', 'channel_spend2', 'channel_spend3', 'channel_spend4', 'channel_spend5', \\\n",
    "                           'num_engagements', 'LowTouch'\n",
    "                          ]]\n",
    "y = customer_deals_joined['final_deal_outcome']\n",
    "\n",
    "X_train, X_test, y_train, y_test = train_test_split(X, y, test_size=0.3, random_state=123)\n",
    "\n",
    "from sklearn.linear_model import LogisticRegression\n",
    "logmodel = LogisticRegression()\n",
    "logmodel.fit(X_train,y_train)\n",
    "predictions = logmodel.predict(X_test)\n",
    "\n",
    "print('Confusion matrix output:')\n",
    "from sklearn.metrics import confusion_matrix\n",
    "print(confusion_matrix(y_test, predictions))\n",
    "\n",
    "print('\\n')\n",
    "\n",
    "print('Logistic evaluation metrics:')\n",
    "from sklearn.metrics import classification_report\n",
    "print(classification_report(y_test,predictions))"
   ]
  },
  {
   "cell_type": "markdown",
   "metadata": {},
   "source": [
    "From this output, we see that the that the model has a very high false positive rate, with 14,180 values being incorrectly classified. The model does seem to work well for predicting positive classes, however."
   ]
  }
 ],
 "metadata": {
  "kernelspec": {
   "display_name": "Python 3",
   "language": "python",
   "name": "python3"
  },
  "language_info": {
   "codemirror_mode": {
    "name": "ipython",
    "version": 3
   },
   "file_extension": ".py",
   "mimetype": "text/x-python",
   "name": "python",
   "nbconvert_exporter": "python",
   "pygments_lexer": "ipython3",
   "version": "3.7.3"
  }
 },
 "nbformat": 4,
 "nbformat_minor": 2
}
